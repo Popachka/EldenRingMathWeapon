{
 "cells": [
  {
   "cell_type": "markdown",
   "metadata": {},
   "source": [
    "<center><h1>Полный гайд на математику оружия в Elden Ring</h1></center>\n",
    "\n",
    "На просторах русскоязычного интернета много разной информации о том, как скалируется оружие в Elden Ring. Не скажу, что они плохие, даже есть очень хорошие. Но мне не хватало деталей в них, потому я сам решил разобраться и поделиться с вами моими находками <br>\n",
    "\n",
    "Будем разбирать на примере **Cold Dagger +5** <br>\n",
    "[![image.webp](https://i.postimg.cc/dtYBtvnp/image.webp)](https://postimg.cc/dD5d4bbj)\n",
    "\n",
    "**Статы предмета**:\n",
    "- BasePhysical: 71\n",
    "- BaseMagic: 60\n",
    "- Strenght Scaling: 31 -> **D**\n",
    "- Dextirity Scaling: 58 -> **D**\n",
    "- Intelligence Scaling: 52 -> **D**\n",
    "\n",
    " [![Screenshot-11.png](https://i.postimg.cc/6340TpkJ/Screenshot-11.png)](https://postimg.cc/62wRmt6Y)"
   ]
  },
  {
   "cell_type": "markdown",
   "metadata": {},
   "source": [
    "## Ранжирование\n",
    "\n",
    "- **E:** 0 - 24\n",
    "- **D:** 25 - 59\n",
    "- **C:** 60 - 89\n",
    "- **B:** 90 - 139\n",
    "- **A:** 140 - 174\n",
    "- **S:** 175+\n"
   ]
  },
  {
   "cell_type": "code",
   "execution_count": 28,
   "metadata": {},
   "outputs": [],
   "source": [
    "StrenghtScale = 31\n",
    "DextirityScale  = 58\n",
    "IntelligenceScale  = 52\n",
    "\n",
    "BasePhysical = 71\n",
    "BaseMagic = 60"
   ]
  },
  {
   "cell_type": "markdown",
   "metadata": {},
   "source": [
    "#### В чем суть?\n",
    "\n",
    "Расчет финального значения урона оружия зависит от 3 понятий: **Базовая атака**, **Скалирование параметра характеристики от оружия**, **Бонус от параметра характеристики**.\n",
    "\n",
    "**[базовый урон] * ([скалирование оружия от характеристики] * [бонус от параметра характеристики])**\n",
    "\n",
    "Если с **Базовой атакой** все достаточно легко. То другие два требуют пояснения.\n",
    "\n",
    "**Скалирование параметра характеристики от оружия** - если зайти код игры, то мы можем увидеть, что на каждом уровне оружия есть свои коэффиценты, которы отвечают за повышение базовой атаки и **Скалирование параметра характеристики от оружия**\n",
    "они выглядат так:\n",
    "<br>[![Screenshot-7.png](https://i.postimg.cc/44tPgnvp/Screenshot-7.png)](https://postimg.cc/YjrYNrsS)<br>\n",
    "[![Screenshot-8.png](https://i.postimg.cc/WzR7ZPVD/Screenshot-8.png)](https://postimg.cc/jwXNVmLK)<br>\n",
    "Строки **Correction %** как раз и отвечают за склаирование параметра. По сути, мы наш базовой параметр скалирования(например сила 31) тут умножим на 1.250 и получим 38.75. Это будет нашим скалированием.<br><br>\n",
    "Строки **Damage %** делают тоже самое, только с базовой атакой оружия, в нашем случае с физикой: 71 * 1.04 = 73.84\n",
    "\n",
    "Ну круто, уже основные значения для расчетов посчитаны, напишем их в коде"
   ]
  },
  {
   "cell_type": "code",
   "execution_count": 29,
   "metadata": {},
   "outputs": [
    {
     "name": "stdout",
     "output_type": "stream",
     "text": [
      "\n",
      "Физический базовый урон: 73.84\n",
      "Магический базовый урон: 62.40\n",
      "\n",
      "Увеличение от Силы на: 38.75% также D\n",
      "Увеличение от Ловкости на: 72.50% теперь это С \n",
      "Увеличение от Интеллекта на: 65.00% теперь это С \n",
      "\n"
     ]
    }
   ],
   "source": [
    "scale_str = scale_dex = scale_int = 1.25\n",
    "scale_phys_damage = scale_magic_damage = 1.04\n",
    "\n",
    "PhysicalBaseDamage = BasePhysical * scale_phys_damage\n",
    "MagicBaseDamage = BaseMagic * scale_magic_damage\n",
    "\n",
    "ScaleFromStrenght = StrenghtScale  * scale_str\n",
    "ScaleFromDextirity = DextirityScale  * scale_dex\n",
    "ScaleFromIntel = IntelligenceScale  * scale_int\n",
    "\n",
    "\n",
    "print(f\"\"\"\n",
    "Физический базовый урон: {PhysicalBaseDamage:.2f}\n",
    "Магический базовый урон: {MagicBaseDamage:.2f}\n",
    "\n",
    "Увеличение от Силы на: {ScaleFromStrenght:.2f}% также D\n",
    "Увеличение от Ловкости на: {ScaleFromDextirity:.2f}% теперь это С \n",
    "Увеличение от Интеллекта на: {ScaleFromIntel:.2f}% теперь это С \n",
    "\"\"\")"
   ]
  },
  {
   "cell_type": "markdown",
   "metadata": {},
   "source": [
    "### Бонус от параметра характеристики\n",
    "Настало для самого сложного. Тут уже без вдумчивости, если вы сталкиваетесь впервые с таким - не обойтись. Напомню, что финальное значение будет считаться как:\n",
    " \n",
    "**[базовый урон] * ([скалирование оружия от характеристики] * [бонус от параметра характеристики])**\n",
    "\n",
    "В нашем случае так как у нашего **Cold Dagger +5** есть скейлы от силы, ловкости, интеллекта, то итоговая формула будет выглядеть так:\n",
    "\n",
    "**[базовый урон] * ([скалирование оружия от силы] * [бонус от параметра силы] + [скалирование от лвк] * [бонус от параметра лвк] + [скалирование от инт] * [бонус от параметра инт])**\n",
    "\n",
    "Если **[базовый урон]** и **[скалирование оружия от силы]** мы считали просто как умножение базы на коэффицент, то расчет **[бонус от параметра силы]** имеет более сложную структуру, которая и будет влиять на основной баланс в игре.\n",
    "\n",
    "Сейчас я введу понятия, а затем покажу основную формулу.\n",
    "***\n",
    "#### Понятия:\n",
    "\n",
    "Стоит оговорится, что значения этих параметров, варируется от оружия к оружию.\n",
    "[![Screenshot-12.png](https://i.postimg.cc/Ghxj4N52/Screenshot-12.png)](https://postimg.cc/9rz9SxV5)\n",
    "\n",
    " \n",
    "**Точки смены поведения (Breakpoints)** - Они представляют собой ключевые точки развития игрока. Допустим, если у тебя Сила 19, то ты будешь между Stat1 и Stat2. Где твоё минимальное значение 18, а максимум 60.\n",
    "Также это можно интерпертировать, как стадия развития персонажа в игре.\n",
    "- Stat 0: 1\n",
    "- Stat 1: 18\n",
    "- Stat 2: 60\n",
    "- Stat 3: 80\n",
    "- Stat 4: 150\n",
    "\n",
    "Отсюда<br>\n",
    "- Stat 0: Начальное значение.<br>\n",
    "- Stat 1-3: Мягкие пределы, после которых рост статистики начинает замедляться.<br>\n",
    "- Stat 4: Конечное значение или максимальный уровень статистики.<br>\n",
    "<br><br>\n",
    "\n",
    "**Рост (Growth)** - значения роста показывают, насколько увеличится характеристика персонажа на каждом этапе. Рост 0 означает отсутсвие увеличения, а на последующих уровнях рост постепенно увеличивается, достигая максимума на уровне 4.\n",
    "\n",
    "- Growth 0: 0\n",
    "- Growth 1: 25\n",
    "- Growth 2: 75\n",
    "- Growth 3: 90\n",
    "- Growth 4: 110<br><br>\n",
    "\n",
    "**Экспоненты (Exponent)** -  как быстро статистика достигает своих значений роста. Экспонента 1 означает линейный рост, тогда как значения выше или ниже 1 указывают на нелинейный рост.\n",
    "- Exponent 0: 1.2 - Положительное значение указывает на более быстрое увеличение в начале и замедление к концу.\n",
    "- Exponent 1: -1.2 - Отрицательное значение указывает на уменьшение роста\n",
    "- Exponent 2: 1 - Линейный рост, что означает равномерное увеличение характеристик на этих уровнях.\n",
    "- Exponent 3: 1\n",
    "- Exponent 4: 1\n",
    "***\n",
    "\n",
    "#### Интуитивно можно попробовать понять из этих картинок:\n",
    "[![Screenshot-9.png](https://i.postimg.cc/hv91b342/Screenshot-9.png)](https://postimg.cc/y38R7jZR)\n",
    "[![Screenshot-10.png](https://i.postimg.cc/kgrBdXcR/Screenshot-10.png)](https://postimg.cc/SJry64Hm)\n",
    "\n",
    "На графике видно что Stat это ось X и те значения из таблицы это точка измененения поведение функции\n",
    "\n",
    "adjPt это наша экспонента, которая как раз и меняет поведение функции\n",
    "***\n",
    "### Формула:\n",
    "\n",
    "Для расчета бонуса используется след формула:\n",
    "```\n",
    "Ratio = (INPUT - StatMIN) / (StatMAX - StatMIN)\n",
    "\n",
    "If ExponentMIN > 0\n",
    "    Growth = Ratio^ExponentMIN\n",
    "If ExponentMIN < 0\n",
    "    Growth = 1 - [(1 - Ratio)^|ExponentMIN|]\n",
    "OUTPUT = GrowMIN + [(GrowMAX - GrowMIN) * Growth]\n",
    "```\n",
    "\n",
    "Разберем это на части, предположим, у игрока 14 силы, 14 ловкости и 40 интеллекта. <br>\n",
    "\n",
    "Просматривая Stat 0 - Stat 4 в таблице  выше, мы видим, что 14 попадает между Stat 0 и Stat 1, а 40 попадает между Stat 1 и Stat 2. Итак, в формуле для силы и ловкости все экземпляры MIN и MAX будут значениями 0 и 1, а для интеллекта - значениями 1 и 2. Вот формула для обоих с нашими данными:\n",
    "\n",
    "### Для силы (Str) и ловкости (Dex) т.к оба 14\n",
    "```\n",
    "Ratio = (14 - 1) / (18 - 1)\n",
    "\n",
    "If 1.2 > 0\n",
    "    Growth = (13/17)^1.2\n",
    "If 1.2 < 0\n",
    "    Growth = 1 - [(1 - (13/17))^1.2]\n",
    "\n",
    "OUTPUT = 0 + [(25 - 0) * ((13/17)^1.2)] = ~18.11896%\n",
    "```\n",
    "\n",
    "### Для интеллекта (Int)\n",
    "```\n",
    "Ratio = (40 - 18) / (60 - 18)\n",
    "\n",
    "If -1.2 > 0:\n",
    "    Growth = (22/42)^-1.2\n",
    "If -1.2 < 0:\n",
    "    Growth = 1 - [(1 - (22/42))^1.2]\n",
    "\n",
    "OUTPUT = 25 + [(75 - 25) * ~0.589] = ~54.47388%\n",
    "```"
   ]
  },
  {
   "cell_type": "code",
   "execution_count": 30,
   "metadata": {},
   "outputs": [
    {
     "name": "stdout",
     "output_type": "stream",
     "text": [
      "Для значения 14 диапазон: [1, 18]\n",
      "Значение 0.7647058823529411 является нашим RATIO для силы и ловкости\n"
     ]
    }
   ],
   "source": [
    "def calculate_ratio(input_stat, stat_min, stat_max):\n",
    "    return (input_stat - stat_min) / (stat_max - stat_min)\n",
    "\n",
    "def calculate_growth(ratio, exponent_min):\n",
    "    if exponent_min > 0:\n",
    "        return ratio ** exponent_min\n",
    "    elif exponent_min < 0:\n",
    "        return 1 - ((1 - ratio) ** abs(exponent_min))\n",
    "    else:\n",
    "        return 1\n",
    "    \n",
    "def calculate_output(grow_min, grow_max, growth):\n",
    "    return grow_min + (grow_max - grow_min) * growth\n",
    "\n",
    "str_char = dex_char = 14 # сила и ловкость\n",
    "\n",
    "STATS = [1, 18, 60, 80, 150]\n",
    "\n",
    "# Инициализируем STAT_MIN и STAT_MAX\n",
    "STAT_MIN = None\n",
    "STAT_MAX = None\n",
    "index_min = None\n",
    "index_max = None\n",
    "# Находим STAT_MIN и STAT_MAX\n",
    "for i in range(len(STATS) - 1):\n",
    "    if STATS[i] <= str_char < STATS[i + 1]:\n",
    "        STAT_MIN = STATS[i]\n",
    "        index_min = i\n",
    "        STAT_MAX = STATS[i + 1]\n",
    "        index_max = i + 1\n",
    "        break\n",
    "\n",
    "if STAT_MIN is not None and STAT_MAX is not None:\n",
    "    print(f\"Для значения {str_char} диапазон: [{STAT_MIN}, {STAT_MAX}]\")\n",
    "\n",
    "phys_ratio = calculate_ratio(str_char, STAT_MIN, STAT_MAX) # for str and dex\n",
    "print(f\"Значение {phys_ratio} является нашим RATIO для силы и ловкости\")\n"
   ]
  },
  {
   "cell_type": "code",
   "execution_count": 31,
   "metadata": {},
   "outputs": [
    {
     "name": "stdout",
     "output_type": "stream",
     "text": [
      "Значение 0.7247584993864192 является нашим показателем роста для силы и ловкости\n",
      "Значение 18.118962484660482% является нашим бонуса от силы и ловкости\n"
     ]
    }
   ],
   "source": [
    "GROWTH = [0, 25, 75, 90, 110]\n",
    "EXPONENTS = [1.2, -1.2, 1, 1, 1]\n",
    "\n",
    "phys_growth = calculate_growth(phys_ratio, EXPONENTS[index_min])\n",
    "print(f\"Значение {phys_growth} является нашим показателем роста для силы и ловкости\")\n",
    "\n",
    "phys_bonus = calculate_output(GROWTH[index_min],GROWTH[index_max], phys_growth)\n",
    "print(f\"Значение {phys_bonus}% является нашим бонуса от силы и ловкости\")\n"
   ]
  },
  {
   "cell_type": "code",
   "execution_count": 32,
   "metadata": {},
   "outputs": [
    {
     "name": "stdout",
     "output_type": "stream",
     "text": [
      "Для значения 40 диапазон: [18, 60]\n",
      "Значение 0.5238095238095238 является нашим RATIO для интеллекта\n",
      "Значение 0.5894776121914185 является нашим показателем роста для интеллекта\n",
      "Значение 54.47388060957093% является нашим бонуса от интеллекта\n"
     ]
    }
   ],
   "source": [
    "# Тоже самое для магии\n",
    "\n",
    "int_char = 40 # интеллект\n",
    "\n",
    "STAT_MIN = None\n",
    "STAT_MAX = None\n",
    "index_min = None\n",
    "index_max = None\n",
    "\n",
    "for i in range(len(STATS) - 1):\n",
    "    if STATS[i] <= int_char < STATS[i + 1]:\n",
    "        STAT_MIN = STATS[i]\n",
    "        index_min = i\n",
    "        STAT_MAX = STATS[i + 1]\n",
    "        index_max = i + 1\n",
    "        break\n",
    "\n",
    "if STAT_MIN is not None and STAT_MAX is not None:\n",
    "    print(f\"Для значения {int_char} диапазон: [{STAT_MIN}, {STAT_MAX}]\")\n",
    "\n",
    "int_ratio = calculate_ratio(int_char, STAT_MIN, STAT_MAX) # for int\n",
    "print(f\"Значение {int_ratio} является нашим RATIO для интеллекта\")\n",
    "\n",
    "int_growth = calculate_growth(int_ratio, EXPONENTS[index_min])\n",
    "print(f\"Значение {int_growth} является нашим показателем роста для интеллекта\")\n",
    "\n",
    "int_bonus = calculate_output(GROWTH[index_min],GROWTH[index_max], int_growth)\n",
    "print(f\"Значение {int_bonus}% является нашим бонуса от интеллекта\")\n"
   ]
  },
  {
   "cell_type": "code",
   "execution_count": 33,
   "metadata": {},
   "outputs": [
    {
     "name": "stdout",
     "output_type": "stream",
     "text": [
      "Значение 54.47388060957093% является нашим бонуса от интеллекта\n",
      "Значение 61.237924969320964% является нашим бонуса от силы и ловкости\n"
     ]
    }
   ],
   "source": [
    "int_bonus = calculate_output(GROWTH[index_min],GROWTH[index_max], int_growth)\n",
    "print(f\"Значение {int_bonus}% является нашим бонуса от интеллекта\")\n",
    "phys_bonus = calculate_output(GROWTH[index_min],GROWTH[index_max], phys_growth)\n",
    "print(f\"Значение {phys_bonus}% является нашим бонуса от силы и ловкости\")"
   ]
  },
  {
   "cell_type": "markdown",
   "metadata": {},
   "source": [
    "<center><h2>Итоговый расчет</h2></center>\n",
    "\n",
    "Напоминаю, нам надо найти:\n",
    "\n",
    "**[базовый урон] * ([скалирование оружия от силы] * [бонус от параметра силы] + [скалирование от лвк] * [бонус от параметра лвк] + [скалирование от инт] * [бонус от параметра инт])**\n",
    "\n",
    "Только **важно** перевести наши скалирование и бонусы из % в числа. Просто поделим их на 100."
   ]
  },
  {
   "cell_type": "code",
   "execution_count": 34,
   "metadata": {},
   "outputs": [],
   "source": [
    "int_bonus /= 100\n",
    "phys_bonus /= 100\n",
    "\n",
    "ScaleFromStrenght /= 100\n",
    "ScaleFromDextirity /= 100\n",
    "ScaleFromIntel /= 100"
   ]
  },
  {
   "cell_type": "code",
   "execution_count": 35,
   "metadata": {},
   "outputs": [
    {
     "name": "stdout",
     "output_type": "stream",
     "text": [
      "\n",
      "Значения после деления на 100:\n",
      "      \n",
      "Бонус от интеллекта: 0.54\n",
      "Физический бонус: 0.61\n",
      "\n",
      "Увеличение от Силы: 0.39\n",
      "Увеличение от Ловкости: 0.72\n",
      "Увеличение от Интеллекта: 0.65\n",
      "\n"
     ]
    }
   ],
   "source": [
    "print(f\"\"\"\n",
    "Значения после деления на 100:\n",
    "      \n",
    "Бонус от интеллекта: {int_bonus:.2f}\n",
    "Физический бонус: {phys_bonus:.2f}\n",
    "\n",
    "Увеличение от Силы: {ScaleFromStrenght:.2f}\n",
    "Увеличение от Ловкости: {ScaleFromDextirity:.2f}\n",
    "Увеличение от Интеллекта: {ScaleFromIntel:.2f}\n",
    "\"\"\")"
   ]
  },
  {
   "cell_type": "code",
   "execution_count": 36,
   "metadata": {},
   "outputs": [
    {
     "name": "stdout",
     "output_type": "stream",
     "text": [
      "\n",
      "Значения после деления на 100:\n",
      "Бонус от интеллекта: 0.54\n",
      "Физический бонус: 0.61\n",
      "\n",
      "Увеличение от Силы: 0.39\n",
      "Увеличение от Ловкости: 0.72\n",
      "Увеличение от Интеллекта: 0.65\n",
      "\n",
      "Расчеты урона:\n",
      "Базовый физический урон: 73.84\n",
      "Базовый магический урон: 62.40\n",
      "\n",
      "Физический урон от силы: 17.52\n",
      "Физический урон от ловкости: 32.78\n",
      "Итоговый физический урон: 124.15\n",
      "\n",
      "Магический урон от интеллекта: 22.09\n",
      "Итоговый магический урон: 84.49\n",
      "\n",
      "Итоговый суммарный урон: 208\n",
      "\n"
     ]
    }
   ],
   "source": [
    "# Считаем\n",
    "import math \n",
    "\n",
    "# Считаем физический урон\n",
    "ForStrength = PhysicalBaseDamage * ScaleFromStrenght * phys_bonus\n",
    "ForDextirity = PhysicalBaseDamage * ScaleFromDextirity * phys_bonus\n",
    "FinalPhysDamage = PhysicalBaseDamage + ForStrength + ForDextirity\n",
    "\n",
    "# Считаем магический урон\n",
    "ForMagic = MagicBaseDamage * ScaleFromIntel * int_bonus\n",
    "FinalIntDamage = MagicBaseDamage + ForMagic\n",
    "# Окончательный урон\n",
    "FinalSumDamage = math.floor(FinalPhysDamage + FinalIntDamage) # округляем в меньшую строну, т.к так происходит в игре\n",
    "\n",
    "\n",
    "print(f\"\"\"\n",
    "Значения после деления на 100:\n",
    "Бонус от интеллекта: {int_bonus:.2f}\n",
    "Физический бонус: {phys_bonus:.2f}\n",
    "\n",
    "Увеличение от Силы: {ScaleFromStrenght:.2f}\n",
    "Увеличение от Ловкости: {ScaleFromDextirity:.2f}\n",
    "Увеличение от Интеллекта: {ScaleFromIntel:.2f}\n",
    "\n",
    "Расчеты урона:\n",
    "Базовый физический урон: {PhysicalBaseDamage:.2f}\n",
    "Базовый магический урон: {MagicBaseDamage:.2f}\n",
    "\n",
    "Физический урон от силы: {ForStrength:.2f}\n",
    "Физический урон от ловкости: {ForDextirity:.2f}\n",
    "Итоговый физический урон: {FinalPhysDamage:.2f}\n",
    "\n",
    "Магический урон от интеллекта: {ForMagic:.2f}\n",
    "Итоговый магический урон: {FinalIntDamage:.2f}\n",
    "\n",
    "Итоговый суммарный урон: {FinalSumDamage}\n",
    "\"\"\")"
   ]
  }
 ],
 "metadata": {
  "kernelspec": {
   "display_name": "myvenv",
   "language": "python",
   "name": "python3"
  },
  "language_info": {
   "codemirror_mode": {
    "name": "ipython",
    "version": 3
   },
   "file_extension": ".py",
   "mimetype": "text/x-python",
   "name": "python",
   "nbconvert_exporter": "python",
   "pygments_lexer": "ipython3",
   "version": "3.12.2"
  }
 },
 "nbformat": 4,
 "nbformat_minor": 2
}
