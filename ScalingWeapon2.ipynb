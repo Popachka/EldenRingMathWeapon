{
 "cells": [
  {
   "cell_type": "markdown",
   "metadata": {},
   "source": [
    "<center><h1>Полный гайд на математику оружия в Elden Ring</h1></center>\n",
    "\n",
    "На просторах русскоязычного интернета много разной информации о том, как скалируется оружие в Elden Ring. Не скажу, что они плохие, даже есть очень хорошие. Но мне не хватало деталей в них, потому я сам решил разобраться и поделиться с вами моими находками <br>\n",
    "\n",
    "Будем разбирать на примере **Cold Dagger +5** <br> <img src='https://lh3.googleusercontent.com/pw/AP1GczNO7y1Iqv1Yr7BzZTxugPLJNhcIIecQrQaRYEHUO-brEieaALpi3mjcVqqKtUszk2n-k9H64Nvw1k1-Fb4CFYSmoQIrwsoUr9CAKtrjuGK1YOtBIF8yg8219Aybe6v7IQxsFweQnqfdCzmhIDzqHZP_oi1R6rSciuqveGSuoVljbZKsgk31qgPcrOHGizvdxoJCJ5vjmimRix7wmOdVNRDxxrFB3Bne9PuveW4m38jjQzCtk1zc6SpVyF2KVDXbgvsUlLVa2Lcm31RM3_31DIOq2PYqhTY64hodoeGBl4mrSPCJjjwXkeFCWVcdg9TpQsHO0jcR6nT6x6uUzBTC08Zb99VmkdxBDqcjZ1HK726r-ut0gX1JUYZMbqSvFb2kJNpfRfGfhzcY5x26WsFRJM5Zg9NMRToww7a8s3TtYBzjNxAvr22pu_sJ_4x8wX69lHYSU9sFT9WlGcQlw1XJdziCpIcAr5kT7lkf1gJxreXQzZKz8k-nzlmOuIpr6lZRj1FyAdYvvGkcKk5rntHRPZYHanWYP0r1k-4sd8Z6amqps-EWLNGOrs_QAGTT7CILhHKdKOoJ0EUhdMVRp63MVfHbDfWTmVmTeTipd2F4SXNJrh09jJq3zzF-7dpVUugXmyKpF31mXEaqWgpNoKiBSxvhJ2nc_PHWBpOK5EVkrdNus19jxrNxHdqe4YYCb-2Hv5HDEUrMSx-SREkJ_d-wVhr8gx85aAWp8mKyrfIS4DJGen3Xz0Ei0cwTfp7QRACmCaDcVxXIwqQ0zTyMh2w_JeBHnds714Z7Un2m5jqeZv5hh_h4ae1vy19-zwwt9g2iiaboB0ElGHaBDMbczWmepfo0B5I4heNKmQ9BmjQfGMTNYy0ZeBft-4LWwHH649WO04WIUjp_Zxd7fzafc2IcNHwU0lWmHDUCHKTgVHVjCGtissUI8-BwidohCrPOyQ=w200-h200-s-no-gm?authuser=0' style='width:100px; height:100px;'>\n",
    "\n",
    "**Статы предмета**:\n",
    "- BasePhysical: 71\n",
    "- BaseMagic: 60\n",
    "- Strenght Scaling: 31 -> **D**\n",
    "- Dextirity Scaling: 58 -> **D**\n",
    "- Intelligence Scaling: 52 -> **D**\n",
    "\n",
    " <img src='https://lh3.googleusercontent.com/pw/AP1GczNyhqnYi9TSlEF7g6YhaXzqfvqO7iQDCUXxk4DO2OE1GjJknqYWHBl0aMxB0iOQ4TTk9Yrve-w1DkibJDRGWtIJTk-uuWfbWAXnlu9dP-_d0vznz-ubu5paiRunysJoGrJlr51qEcu4E7jyGbdAhSA-H98tckgoyQv7fyuqJATcN9beNPzygE4tnu8aBL_p-8_CzTTFnZwJWsCIn3f8vGLzzCOzStPufnu5mdOGMDxbCQfq2Ff-7hlH0IRdqHQhf3LNukFcHHN7U6FrdMShTzPHP6Qzno4crCQ0n_L4tSvxDAekjafmnfzw8h0gNfF4Ur2v34Upc-0wnvT5pUsMjKFvirYMLzlFC2OspnLr85tloZWEi41u3Dn5ofkrLwRn8kcRgtpRlL8jZ_oHQuIXi6bXUkKoGfLUs0-qNbE9kTni_9l7sRkNeiiwCbfWEP9A9HR7dSFuHQoEcWXspWd405gWGrL1N_i_VbMDSDgCmkG76zJgsdRtI6UfiRtyrpLxl20NgitHq5nlYmEHnH2RCA2rUswAoWUiy9KDTB35YlJclCaKLpy09gV-YVJ1Q4reo9W3HhFgy5chYTcBirwYbmRqr80RT6oGE7LzP69R39o-Qam142ds1f8wdizqyKzmhT_FE59i_3u5mvM1r-g1MK_p_s2w2zBueF61MjUVqKB8ErW-wJH3oPzQ87WSNzglL-DMMmPlQo6yFWbp76PJnQ7OPmMZugHqPv70Kqvd_xbrhFqyudVrrFJoMmrlxRD0YWL-PM7IpWGypqMtQI4EtXLE7ukDKrJ5S6dyiomZRb6rbMY0AY6i3CYLQp8DuwwDOh4VfOrhnUrMp7WykObWbXNEou5KC6K5kKTWjNheBbwW2n2k92p2Hhp4ng6LytGNWGNFWPwQbwXH55mcoTjnWMhOMLWrPM_VN4wl1WwOkyOCod2ZD9MYM-Nn9Laa4w=w680-h215-s-no-gm?authuser=0' >"
   ]
  },
  {
   "cell_type": "markdown",
   "metadata": {},
   "source": [
    "## Ранжирование\n",
    "\n",
    "- **E:** 0 - 24\n",
    "- **D:** 25 - 59\n",
    "- **C:** 60 - 89\n",
    "- **B:** 90 - 139\n",
    "- **A:** 140 - 174\n",
    "- **S:** 175+\n"
   ]
  },
  {
   "cell_type": "code",
   "execution_count": 19,
   "metadata": {},
   "outputs": [],
   "source": [
    "StrenghtScale = 31\n",
    "DextirityScale  = 58\n",
    "IntelligenceScale  = 52\n",
    "\n",
    "BasePhysical = 71\n",
    "BaseMagic = 60"
   ]
  },
  {
   "cell_type": "markdown",
   "metadata": {},
   "source": [
    "#### В чем суть?\n",
    "\n",
    "Расчет финального значения урона оружия зависит от 3 понятий: **Базовая атака**, **Скалирование параметра характеристики от оружия**, **Бонус от параметра характеристики**.\n",
    "\n",
    "**[базовый урон] * ([скалирование оружия от характеристики] * [бонус от параметра характеристики])**\n",
    "\n",
    "Если с **Базовой атакой** все достаточно легко. То другие два требуют пояснения.\n",
    "\n",
    "**Скалирование параметра характеристики от оружия** - если зайти код игры, то мы можем увидеть, что на каждом уровне оружия есть свои коэффиценты, которы отвечают за повышение базовой атаки и **Скалирование параметра характеристики от оружия**\n",
    "они выглядат так:\n",
    "<br><img src='https://lh3.googleusercontent.com/pw/AP1GczN901vHnoEt5-H6stz7fHBdwOogodr2dfJU_zoE9bMsEm3OtXOFjqqai-rbmxkjMGAOhdLaOl6PuLPjEyRzstlZeQR6plt4C0urDT7JNObWvDg0ti5u3GokJ-QrWNY5kmLb_HXfiUVuGOXtPUG-ozHX4Xv04Y8CcT7iI_uNBByspOw9ppY41fvOH-YrSLjOUw6Yyug5QErLwc5kuqTDEjgj3j_EEBtmqGXpbnddlpxDrKiSg7NG96ze9KylC3vCVcxwW_O0ooM7vLxeLqhpv1b1VAZL-o78LAYUgBu0pfizqARtiDdpwG9Z19dWRxbN0kUpRz3RMOPskaDmoNo1Y1wERsEwiN348kx1gCpusu93-Rob-jHPywOzW460iZJH6l-0vW3HRzYQieZ0DiICeNg0d6Y2nlkgeWM4HEuNdWxKgUhlWWB7pFCVvRexRPMXYjNwFVi4fZvpGND8wCSnq8GB0evUHNjzyAL4UFagzOJVXyf5LnRSERDFi8MJtD9Uk8Y2ymvQvQ_xg8VT5X7vRCi2w6CJGYCR7raTYEGuthmEShJzkpHA4Ar7wX-H6iVlH2GHGBeEsIGjdqXUuIjdLpGjV6WEXICDEXMaZykO6tVKPeB66r2AV4477_GGkdAxYzwCliVx_XkgSMlkXUStCH4c6I5ygVHPrSXv6b4BmzKHfb3piJ41_OyIAyVHrRwj43LbsAYi7eSOrocwg02CC0edxeCnfzZXFyFxIqvWENhZraZYVxySkq0hPim7yG_e03h7b9oNK9NUOFaa5l_XMZHrY4himli6v6Vx6QTphVdbXHNQabiM4GJng3rtIqhAR7jZt47wr9vGugXjsvAcjALdK2lRK1BDfmqJ_QdLDdc7ZluN4bUZMEN6Nb8qWkMNNxYDDP74JV4RQ0WfhdEGL9YoR-EXFvIiMUxDpyawDxqhF6KTQ8Sbgqi717PRKw=w675-h121-s-no-gm?authuser=0' style=''><br>\n",
    "<img src='https://lh3.googleusercontent.com/pw/AP1GczOoKLPNNb1AwvgAYaVlvLsLhtErfzdwDNx5a14GMlZfY9hDZQGte1u1T3jgo8k3RRakv6bqj-rjlfebcR_yQV9blEFzm9y36c05F5pU-fZpALAgj0Ch44mkg7iIayws84UCigy126BJyyiWR0Vl_NCv7O1Od_SQkKpWU1JI3cK2IlQRpNqlhA3QzdNQ6sH7ranqijsksofANxT0bxlBBEU1KFZet-q0OXkX3T3NOf3WctoYXiBAuEkMhuXz4PrTSDE665im3279f27SMQ6DzespNzXLPVkySYSxJIsS4UPXTBUXK1eAYDr0rNgYGf-iWeJ1K5esR38UeftdB2cJfLI3AB9q0R6YZg-Z7ZfjbGk0OzvT-fg2Jrw8QMHQPBYcwy4ji5smky3ZCZRntyywrLlc5LgtUCKRes0_HTP2-Wmv98CK6eSdbFHnU-uWSvrOyYrGwuhkfPiISSVTSE6CBdHx05v-fXssvL3SYKd8MfRcQ2ZtNp-XbaI5A4mSrooSNS0FFiTC4SLjLw1lFffcLG-DPEvLH12Z2q8rmB17c3PshBUeg2dOiAVPVqIeSQPQT3YijnvGfdDr-A5idXB-BfkV8S19J83NYNYGTKPCe6wiIX7oUwqR7AhN24jc4lJLSNtGpJVF720lkKY7ejoYia4IS0SAJfYYYiUdgKLobke10yF015QfPMdim6--QvQ9bN4Bl7aM6x5vJWUkcpX8MdqopH2bqTbnuyNttIHDmaHgLj-mjF5gnc657IyVfNeDCWiAGRsqHBA4uLVMI3-BxRB333qEGvRgYtIE8N6Zb3Beng781qyeKSDG0EQWT7ytLnax9evFpydY9KZwF1CA-QnuZiZmp7loEVTJa3SOo3t54xKzn-EscQnnet-SImNLeDNSz2dAulhULvngH8GmKRRRjBEbX04XhDa2oJe76k6RK-ZZnCqPdbXtmqtF8A=w675-h49-s-no-gm?authuser=0' style=''><br>\n",
    "Строки **Correction %** как раз и отвечают за склаирование параметра. По сути, мы наш базовой параметр скалирования(например сила 31) тут умножим на 1.250 и получим 38.75. Это будет нашим скалированием.<br><br>\n",
    "Строки **Damage %** делают тоже самое, только с базовой атакой оружия, в нашем случае с физикой: 71 * 1.04 = 73.84\n",
    "\n",
    "Ну круто, уже основные значения для расчетов посчитаны, напишем их в коде"
   ]
  },
  {
   "cell_type": "code",
   "execution_count": 20,
   "metadata": {},
   "outputs": [
    {
     "name": "stdout",
     "output_type": "stream",
     "text": [
      "\n",
      "Физический базовый урон: 73.84\n",
      "Магический базовый урон: 62.40\n",
      "\n",
      "Увеличение от Силы на: 38.75% также D\n",
      "Увеличение от Ловкости на: 72.50% теперь это С \n",
      "Увеличение от Интеллекта на: 65.00% теперь это С \n",
      "\n"
     ]
    }
   ],
   "source": [
    "scale_str = scale_dex = scale_int = 1.25\n",
    "scale_phys_damage = scale_magic_damage = 1.04\n",
    "\n",
    "PhysicalBaseDamage = BasePhysical * scale_phys_damage\n",
    "MagicBaseDamage = BaseMagic * scale_magic_damage\n",
    "\n",
    "ScaleFromStrenght = StrenghtScale  * scale_str\n",
    "ScaleFromDextirity = DextirityScale  * scale_dex\n",
    "ScaleFromIntel = IntelligenceScale  * scale_int\n",
    "\n",
    "\n",
    "print(f\"\"\"\n",
    "Физический базовый урон: {PhysicalBaseDamage:.2f}\n",
    "Магический базовый урон: {MagicBaseDamage:.2f}\n",
    "\n",
    "Увеличение от Силы на: {ScaleFromStrenght:.2f}% также D\n",
    "Увеличение от Ловкости на: {ScaleFromDextirity:.2f}% теперь это С \n",
    "Увеличение от Интеллекта на: {ScaleFromIntel:.2f}% теперь это С \n",
    "\"\"\")"
   ]
  },
  {
   "cell_type": "markdown",
   "metadata": {},
   "source": [
    "### Бонус от параметра характеристики\n",
    "Настало для самого сложного. Тут уже без вдумчивости, если вы сталкиваетесь впервые с таким - не обойтись. Напомню, что финальное значение будет считаться как:\n",
    " \n",
    "**[базовый урон] * ([скалирование оружия от характеристики] * [бонус от параметра характеристики])**\n",
    "\n",
    "В нашем случае так как у нашего **Cold Dagger +5** есть скейлы от силы, ловкости, интеллекта, то итоговая формула будет выглядеть так:\n",
    "\n",
    "**[базовый урон] * ([скалирование оружия от силы] * [бонус от параметра силы] + [скалирование от лвк] * [бонус от параметра лвк] + [скалирование от инт] * [бонус от параметра инт])**\n",
    "\n",
    "Если **[базовый урон]** и **[скалирование оружия от силы]** мы считали просто как умножение базы на коэффицент, то расчет **[бонус от параметра силы]** имеет более сложную структуру, которая и будет влиять на основной баланс в игре.\n",
    "\n",
    "Сейчас я введу понятия, а затем покажу основную формулу.\n",
    "***\n",
    "#### Понятия:\n",
    "\n",
    "Стоит оговорится, что значения этих параметров, варируется от оружия к оружию.\n",
    "<img src = 'https://lh3.googleusercontent.com/pw/AP1GczMaBcmOyt56-w0xtKqn4Jdc8eLzZrc_CGDVGFU73r0-Mr-55XU2jKoHOXh8ZOcflg3nqtch1FZ6vRx2K_Jnet7WjXH8I7tnGdH0_sIUSadTEKesE8t0lPl7Wo3VJpuvRjPYOHidSo2KRRfMTJ8oFViVatB_ssfiC1m9yau2SHBeiFci1ZoBtsOR6iH3n5sXvYT1MV2I4usgkAQ2MDn8cmJxNPRH9xM0wRABEXtx7nDSma1fBc2r4PnNuHzaKN_oqb6ri4_assHPDmDuLj_qRvD5pmAgcMMrqcpeoUuJUjkXip0YRQQStfbXlysV08bU6OYCRUKcEIcU6iFHkAIyGvyLFWQcIItklaO-c38A5n5zaGLtaoiqBDTqdq9xe7GwB88dlegyx3ftgmqW97L8JqpagekMglTJOz0RLN2Ap8KwkA5QKd49hZBUY0RVYUCKFqvSh8QPXQ6n8O-pf2a-Rq0_FKxZRdnjT_bys0pNup1i-hCHqWQEz10wjsR7KB9gVbnsvQoo4T2R6WjYTs2A6aup45-VggCL5Brxzne-cGM4ezQV1lJ81LlVQKJr8ETiuxdYsaf3NSkzYFt_YArfBuw5n2GJuFRpnVOC654Exyy_1043uXE-BjDeSmmG75GOIdoO5HC7gpWM5iIRqvnWMOpTpJh0GAi4fwTUdWJbYq5eZROMOn7ikE59RWmacDEROsOwaWdM9KRzubVimY9hq9PVf7ws5PVp9C8_vRlkRVm_UQiSFijF6agXkAxrK3BUuw9dco_GASAh8mJomCmeiBR9wRuJZ0b18Gdc-pxzbq_9-gdHV27vzuEq3OQKrEIJXmWmECC7hi9S-BpaafUWTl5czE3Ga57IXmlgP3hAcHzgRqFpZEjhzCHuuzFOiRh6M65yx9Ys_7q-_vkl7F5fqPOSj9aclkTWowO0pcM1yQR1-RKA_FyZmfRcRFWJQQ=w1328-h532-s-no-gm?authuser=0'>\n",
    "\n",
    " \n",
    "**Точки смены поведения (Breakpoints)** - Они представляют собой ключевые точки развития игрока. Допустим, если у тебя Сила 19, то ты будешь между Stat1 и Stat2. Где твоё минимальное значение 18, а максимум 60.\n",
    "Также это можно интерпертировать, как стадия развития персонажа в игре.\n",
    "- Stat 0: 1\n",
    "- Stat 1: 18\n",
    "- Stat 2: 60\n",
    "- Stat 3: 80\n",
    "- Stat 4: 150\n",
    "\n",
    "Отсюда<br>\n",
    "- Stat 0: Начальное значение.<br>\n",
    "- Stat 1-3: Мягкие пределы, после которых рост статистики начинает замедляться.<br>\n",
    "- Stat 4: Конечное значение или максимальный уровень статистики.<br>\n",
    "<br><br>\n",
    "\n",
    "**Рост (Growth)** - значения роста показывают, насколько увеличится характеристика персонажа на каждом этапе. Рост 0 означает отсутсвие увеличения, а на последующих уровнях рост постепенно увеличивается, достигая максимума на уровне 4.\n",
    "\n",
    "- Growth 0: 0\n",
    "- Growth 1: 25\n",
    "- Growth 2: 75\n",
    "- Growth 3: 90\n",
    "- Growth 4: 110<br><br>\n",
    "\n",
    "**Экспоненты (Exponent)** -  как быстро статистика достигает своих значений роста. Экспонента 1 означает линейный рост, тогда как значения выше или ниже 1 указывают на нелинейный рост.\n",
    "- Exponent 0: 1.2 - Положительное значение указывает на более быстрое увеличение в начале и замедление к концу.\n",
    "- Exponent 1: -1.2 - Отрицательное значение указывает на уменьшение роста\n",
    "- Exponent 2: 1 - Линейный рост, что означает равномерное увеличение характеристик на этих уровнях.\n",
    "- Exponent 3: 1\n",
    "- Exponent 4: 1\n",
    "***\n",
    "\n",
    "#### Интуитивно можно попробовать понять из этих картинок:\n",
    "<img src = 'https://lh3.googleusercontent.com/pw/AP1GczO-SrdvKbXA-erO5qcQYoIhfR7GJT0kamzIbJ743_BVmqsRPZpd4NRq87tCw4_kNFlIGpT6x3OQeITH6qHb8Pv_1mrLLBcUReCyt6SrVHOS8j-n092BJWmZGMb_wvSYhXxzd37whqpkMuBkJF3czDiOM4K_SfqSGhkqu8150hSwLZeQ2mNaQ8lyZJYyjWT5LzDRybtvauRt0csJ-6hwF4t4a8uWKeUxl0tld9OK3M2cJEcdrfuRMxLlx2QnsJrrYNgIUe_HThEglJDFv1Dzzb9mTyj67ugx6C3Pnct8xSvLEnszze5UjPla9O2A80fM1_AaDmJLydTZ4YC4yxq4jsvIjoYscSV4WPXxoz0Ou9tmGQ7lpEe0c8cFO7ltfdCrt-MBACghctXEdPD8ng725H7BQU-3_T-zFDPvN3eat4x7FHYlTj8Ud46XNTwrYWCRR1_8yLU7zGWA1K_Ihd4VxjrECKN1FvpXqrkyb5nrA6xdrbjeBUArj8iD0Oqg8pvqhdpeFuN0gP1asyYbMfOBSnba4_k0_BU1kmUBTBWffTRfsoxC3vAt61jK_Ef_a7d5iTq2WltSZphc4NpyjnL0DEasrqv_BeJiKO3OMUmV9b50YJ9zAswSqhTYcYMcU0VjimrYES8FpT8PP7rXxkOzxW13hgduXuOTaWsJbFfdCP6iy0F-SRIyvBEuPsE7EdXQt29kQoUL3gu3pigLpb_sf7zvlgFOY99JVdWEKMJLH4GR0pRX9loIprTY08Ua-MfKtbNWuLrY0gcf2z0qHiQIu2T-c166_z-aL2SbEBOGIHM42IPPimoH1OQP0wa1oWdUE1DgoiiLKnuAsXVdANEr8QManhYIpo4CEqY4Y_XOpD7spRORaFKY5DA9H2956kbIUIhNDGVFWGH_Nvf51hjzl5faJmMnDrr6SQJ8Q6tfXVrq0B57taZaAgJwzx7Bkg=w251-h150-s-no-gm?authuser=0'>\n",
    "<img src = 'https://lh3.googleusercontent.com/pw/AP1GczMn2jQJw1z-HW-zI0mL2rWbOhlH96ZpUjoy_9TXNfCwtzKa3PX9vzrDUmG57ZuhrtkVxS0d-fPliDXCaKv9R1cW4uSqRBXv7T944n3h_OKFeHGd7kgJyCFqxR6GTe0oo7VxpvJgJ6_k64Cuap5uvU8fcUeEVqqnSoy-CxE-UQ43tJNhoAZe8486k_-m6vXyt9_qL6MJTwi96BWLVsY8rnRGzD7HY7nSKr194EAfheQY070EY_iMSHiFWvgphDWWZGS8y1UcoAZN361Owlro8IWSbs8BX13jzazS6_LRSaevQbA0ft_rondBy_PnGkTLdlvNHFcTeEa1idz7X-uW5HkcOCylXx4Ye10LkBR74-AFXXffd80k0uWMsQEpKcObMOsBpNVunfgQKlRc3M67M12UrliMHMp-8Fxw4vzZKqhpR4SBuqNjJ9HBwmoqaGQUw6uVGRCpowBEEluy459Py_OoPFJxtrZUXZXSswEbK5Of9Y-F33YmKeQyLhTCJInHcpTuz33kk6Lr3WqxQz29au8GWqG37qWlHEmhEqr-8Bl9Io_ozfnuZXXTZMNRSaTd_3Ae7ffsJtZUmwwwRYOpHlNDjpd5Hr0pgh4rWM-yOf2JjH985iKklEYUZq1APIz7kcalOIPm5RGEYublT9kbJ6uPleoi1uzzSUEqY_fDKqgmr8LHT6mnlEAGuCSJPMkvCEradbDyPPIGuLaM2HPWu5k0wqqwS4mq3mSStXcJiOpQ5iZf7VIvMJCcIosoWB4PyUyXCMoZ2ZpPdD4qsooq4NcMRQJARCrVc27e38VV7urUP3F5uNRfZUAVfsfHA8lUfprXW3QWepnBsbxUnpAk6GoaU7Hjizu9g-sDS_v_zxgl80BYDlYJvrbFea1kg26ViWQ_rpYV5e4m3sATNqGkzYsIfrFvCXFD43Md39IXl98q_e7kMBYJGa_z2lYJMA=w1020-h630-s-no-gm?authuser=0'>\n",
    "\n",
    "На графике видно что Stat это ось X и те значения из таблицы это точка измененения поведение функции\n",
    "\n",
    "adjPt это наша экспонента, которая как раз и меняет поведение функции\n",
    "***\n",
    "### Формула:\n",
    "\n",
    "Для расчета бонуса используется след формула:\n",
    "```\n",
    "Ratio = (INPUT - StatMIN) / (StatMAX - StatMIN)\n",
    "\n",
    "If ExponentMIN > 0\n",
    "    Growth = Ratio^ExponentMIN\n",
    "If ExponentMIN < 0\n",
    "    Growth = 1 - [(1 - Ratio)^|ExponentMIN|]\n",
    "OUTPUT = GrowMIN + [(GrowMAX - GrowMIN) * Growth]\n",
    "```\n",
    "\n",
    "Разберем это на части, предположим, у игрока 14 силы, 14 ловкости и 40 интеллекта. <br>\n",
    "\n",
    "Просматривая Stat 0 - Stat 4 в таблице  выше, мы видим, что 14 попадает между Stat 0 и Stat 1, а 40 попадает между Stat 1 и Stat 2. Итак, в формуле для силы и ловкости все экземпляры MIN и MAX будут значениями 0 и 1, а для интеллекта - значениями 1 и 2. Вот формула для обоих с нашими данными:\n",
    "\n",
    "### Для силы (Str) и ловкости (Dex) т.к оба 14\n",
    "```\n",
    "Ratio = (14 - 1) / (18 - 1)\n",
    "\n",
    "If 1.2 > 0\n",
    "    Growth = (13/17)^1.2\n",
    "If 1.2 < 0\n",
    "    Growth = 1 - [(1 - (13/17))^1.2]\n",
    "\n",
    "OUTPUT = 0 + [(25 - 0) * ((13/17)^1.2)] = ~18.11896%\n",
    "```\n",
    "\n",
    "### Для интеллекта (Int)\n",
    "```\n",
    "Ratio = (40 - 18) / (60 - 18)\n",
    "\n",
    "If -1.2 > 0:\n",
    "    Growth = (22/42)^-1.2\n",
    "If -1.2 < 0:\n",
    "    Growth = 1 - [(1 - (22/42))^1.2]\n",
    "\n",
    "OUTPUT = 25 + [(75 - 25) * ~0.589] = ~54.47388%\n",
    "```"
   ]
  },
  {
   "cell_type": "code",
   "execution_count": 21,
   "metadata": {},
   "outputs": [
    {
     "name": "stdout",
     "output_type": "stream",
     "text": [
      "Для значения 14 диапазон: [1, 18]\n",
      "Значение 0.7647058823529411 является нашим RATIO для силы и ловкости\n"
     ]
    }
   ],
   "source": [
    "def calculate_ratio(input_stat, stat_min, stat_max):\n",
    "    return (input_stat - stat_min) / (stat_max - stat_min)\n",
    "\n",
    "def calculate_growth(ratio, exponent_min):\n",
    "    if exponent_min > 0:\n",
    "        return ratio ** exponent_min\n",
    "    elif exponent_min < 0:\n",
    "        return 1 - ((1 - ratio) ** abs(exponent_min))\n",
    "    else:\n",
    "        return 1\n",
    "    \n",
    "def calculate_output(grow_min, grow_max, growth):\n",
    "    return grow_min + (grow_max - grow_min) * growth\n",
    "\n",
    "str_char = dex_char = 14 # сила и ловкость\n",
    "\n",
    "STATS = [1, 18, 60, 80, 150]\n",
    "\n",
    "# Инициализируем STAT_MIN и STAT_MAX\n",
    "STAT_MIN = None\n",
    "STAT_MAX = None\n",
    "index_min = None\n",
    "index_max = None\n",
    "# Находим STAT_MIN и STAT_MAX\n",
    "for i in range(len(STATS) - 1):\n",
    "    if STATS[i] <= str_char < STATS[i + 1]:\n",
    "        STAT_MIN = STATS[i]\n",
    "        index_min = i\n",
    "        STAT_MAX = STATS[i + 1]\n",
    "        index_max = i + 1\n",
    "        break\n",
    "\n",
    "if STAT_MIN is not None and STAT_MAX is not None:\n",
    "    print(f\"Для значения {str_char} диапазон: [{STAT_MIN}, {STAT_MAX}]\")\n",
    "\n",
    "phys_ratio = calculate_ratio(str_char, STAT_MIN, STAT_MAX) # for str and dex\n",
    "print(f\"Значение {phys_ratio} является нашим RATIO для силы и ловкости\")\n"
   ]
  },
  {
   "cell_type": "code",
   "execution_count": 22,
   "metadata": {},
   "outputs": [
    {
     "name": "stdout",
     "output_type": "stream",
     "text": [
      "Значение 0.7247584993864192 является нашим показателем роста для силы и ловкости\n",
      "Значение 18.118962484660482% является нашим бонуса от силы и ловкости\n"
     ]
    }
   ],
   "source": [
    "GROWTH = [0, 25, 75, 90, 110]\n",
    "EXPONENTS = [1.2, -1.2, 1, 1, 1]\n",
    "\n",
    "phys_growth = calculate_growth(phys_ratio, EXPONENTS[index_min])\n",
    "print(f\"Значение {phys_growth} является нашим показателем роста для силы и ловкости\")\n",
    "\n",
    "phys_bonus = calculate_output(GROWTH[index_min],GROWTH[index_max], phys_growth)\n",
    "print(f\"Значение {phys_bonus}% является нашим бонуса от силы и ловкости\")\n"
   ]
  },
  {
   "cell_type": "code",
   "execution_count": 23,
   "metadata": {},
   "outputs": [
    {
     "name": "stdout",
     "output_type": "stream",
     "text": [
      "Для значения 40 диапазон: [18, 60]\n",
      "Значение 0.5238095238095238 является нашим RATIO для интеллекта\n",
      "Значение 0.5894776121914185 является нашим показателем роста для интеллекта\n",
      "Значение 54.47388060957093% является нашим бонуса от интеллекта\n"
     ]
    }
   ],
   "source": [
    "# Тоже самое для магии\n",
    "\n",
    "int_char = 40 # интеллект\n",
    "\n",
    "STAT_MIN = None\n",
    "STAT_MAX = None\n",
    "index_min = None\n",
    "index_max = None\n",
    "\n",
    "for i in range(len(STATS) - 1):\n",
    "    if STATS[i] <= int_char < STATS[i + 1]:\n",
    "        STAT_MIN = STATS[i]\n",
    "        index_min = i\n",
    "        STAT_MAX = STATS[i + 1]\n",
    "        index_max = i + 1\n",
    "        break\n",
    "\n",
    "if STAT_MIN is not None and STAT_MAX is not None:\n",
    "    print(f\"Для значения {int_char} диапазон: [{STAT_MIN}, {STAT_MAX}]\")\n",
    "\n",
    "int_ratio = calculate_ratio(int_char, STAT_MIN, STAT_MAX) # for int\n",
    "print(f\"Значение {int_ratio} является нашим RATIO для интеллекта\")\n",
    "\n",
    "int_growth = calculate_growth(int_ratio, EXPONENTS[index_min])\n",
    "print(f\"Значение {int_growth} является нашим показателем роста для интеллекта\")\n",
    "\n",
    "int_bonus = calculate_output(GROWTH[index_min],GROWTH[index_max], int_growth)\n",
    "print(f\"Значение {int_bonus}% является нашим бонуса от интеллекта\")\n"
   ]
  },
  {
   "cell_type": "code",
   "execution_count": 24,
   "metadata": {},
   "outputs": [
    {
     "name": "stdout",
     "output_type": "stream",
     "text": [
      "Значение 54.47388060957093% является нашим бонуса от интеллекта\n",
      "Значение 61.237924969320964% является нашим бонуса от силы и ловкости\n"
     ]
    }
   ],
   "source": [
    "int_bonus = calculate_output(GROWTH[index_min],GROWTH[index_max], int_growth)\n",
    "print(f\"Значение {int_bonus}% является нашим бонуса от интеллекта\")\n",
    "phys_bonus = calculate_output(GROWTH[index_min],GROWTH[index_max], phys_growth)\n",
    "print(f\"Значение {phys_bonus}% является нашим бонуса от силы и ловкости\")"
   ]
  },
  {
   "cell_type": "markdown",
   "metadata": {},
   "source": [
    "<center><h2>Итоговый расчет</h2></center>\n",
    "\n",
    "Напоминаю, нам надо найти:\n",
    "\n",
    "**[базовый урон] * ([скалирование оружия от силы] * [бонус от параметра силы] + [скалирование от лвк] * [бонус от параметра лвк] + [скалирование от инт] * [бонус от параметра инт])**\n",
    "\n",
    "Только **важно** перевести наши скалирование и бонусы из % в числа. Просто поделим их на 100."
   ]
  },
  {
   "cell_type": "code",
   "execution_count": 25,
   "metadata": {},
   "outputs": [],
   "source": [
    "int_bonus /= 100\n",
    "phys_bonus /= 100\n",
    "\n",
    "ScaleFromStrenght /= 100\n",
    "ScaleFromDextirity /= 100\n",
    "ScaleFromIntel /= 100"
   ]
  },
  {
   "cell_type": "code",
   "execution_count": 26,
   "metadata": {},
   "outputs": [
    {
     "name": "stdout",
     "output_type": "stream",
     "text": [
      "\n",
      "Значения после деления на 100:\n",
      "      \n",
      "Бонус от интеллекта: 0.54\n",
      "Физический бонус: 0.61\n",
      "\n",
      "Увеличение от Силы: 0.39\n",
      "Увеличение от Ловкости: 0.72\n",
      "Увеличение от Интеллекта: 0.65\n",
      "\n"
     ]
    }
   ],
   "source": [
    "print(f\"\"\"\n",
    "Значения после деления на 100:\n",
    "      \n",
    "Бонус от интеллекта: {int_bonus:.2f}\n",
    "Физический бонус: {phys_bonus:.2f}\n",
    "\n",
    "Увеличение от Силы: {ScaleFromStrenght:.2f}\n",
    "Увеличение от Ловкости: {ScaleFromDextirity:.2f}\n",
    "Увеличение от Интеллекта: {ScaleFromIntel:.2f}\n",
    "\"\"\")"
   ]
  },
  {
   "cell_type": "code",
   "execution_count": 27,
   "metadata": {},
   "outputs": [
    {
     "name": "stdout",
     "output_type": "stream",
     "text": [
      "\n",
      "Значения после деления на 100:\n",
      "Бонус от интеллекта: 0.54\n",
      "Физический бонус: 0.61\n",
      "\n",
      "Увеличение от Силы: 0.39\n",
      "Увеличение от Ловкости: 0.72\n",
      "Увеличение от Интеллекта: 0.65\n",
      "\n",
      "Расчеты урона:\n",
      "Базовый физический урон: 73.84\n",
      "Базовый магический урон: 62.40\n",
      "\n",
      "Физический урон от силы: 17.52\n",
      "Физический урон от ловкости: 32.78\n",
      "Итоговый физический урон: 124.15\n",
      "\n",
      "Магический урон от интеллекта: 22.09\n",
      "Итоговый магический урон: 84.49\n",
      "\n",
      "Итоговый суммарный урон: 208\n",
      "\n"
     ]
    }
   ],
   "source": [
    "# Считаем\n",
    "import math \n",
    "\n",
    "# Считаем физический урон\n",
    "ForStrength = PhysicalBaseDamage * ScaleFromStrenght * phys_bonus\n",
    "ForDextirity = PhysicalBaseDamage * ScaleFromDextirity * phys_bonus\n",
    "FinalPhysDamage = PhysicalBaseDamage + ForStrength + ForDextirity\n",
    "\n",
    "# Считаем магический урон\n",
    "ForMagic = MagicBaseDamage * ScaleFromIntel * int_bonus\n",
    "FinalIntDamage = MagicBaseDamage + ForMagic\n",
    "# Окончательный урон\n",
    "FinalSumDamage = math.floor(FinalPhysDamage + FinalIntDamage) # округляем в меньшую строну, т.к так происходит в игре\n",
    "\n",
    "\n",
    "print(f\"\"\"\n",
    "Значения после деления на 100:\n",
    "Бонус от интеллекта: {int_bonus:.2f}\n",
    "Физический бонус: {phys_bonus:.2f}\n",
    "\n",
    "Увеличение от Силы: {ScaleFromStrenght:.2f}\n",
    "Увеличение от Ловкости: {ScaleFromDextirity:.2f}\n",
    "Увеличение от Интеллекта: {ScaleFromIntel:.2f}\n",
    "\n",
    "Расчеты урона:\n",
    "Базовый физический урон: {PhysicalBaseDamage:.2f}\n",
    "Базовый магический урон: {MagicBaseDamage:.2f}\n",
    "\n",
    "Физический урон от силы: {ForStrength:.2f}\n",
    "Физический урон от ловкости: {ForDextirity:.2f}\n",
    "Итоговый физический урон: {FinalPhysDamage:.2f}\n",
    "\n",
    "Магический урон от интеллекта: {ForMagic:.2f}\n",
    "Итоговый магический урон: {FinalIntDamage:.2f}\n",
    "\n",
    "Итоговый суммарный урон: {FinalSumDamage}\n",
    "\"\"\")"
   ]
  }
 ],
 "metadata": {
  "kernelspec": {
   "display_name": "myvenv",
   "language": "python",
   "name": "python3"
  },
  "language_info": {
   "codemirror_mode": {
    "name": "ipython",
    "version": 3
   },
   "file_extension": ".py",
   "mimetype": "text/x-python",
   "name": "python",
   "nbconvert_exporter": "python",
   "pygments_lexer": "ipython3",
   "version": "3.12.2"
  }
 },
 "nbformat": 4,
 "nbformat_minor": 2
}
